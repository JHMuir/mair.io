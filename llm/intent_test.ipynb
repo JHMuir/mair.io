{
 "cells": [
  {
   "cell_type": "code",
   "execution_count": 1,
   "metadata": {},
   "outputs": [
    {
     "name": "stderr",
     "output_type": "stream",
     "text": [
      "c:\\Users\\jorda\\miniconda3\\envs\\mairio\\Lib\\site-packages\\tqdm\\auto.py:21: TqdmWarning: IProgress not found. Please update jupyter and ipywidgets. See https://ipywidgets.readthedocs.io/en/stable/user_install.html\n",
      "  from .autonotebook import tqdm as notebook_tqdm\n"
     ]
    }
   ],
   "source": [
    "import os\n",
    "import dspy\n",
    "from typing import Literal\n",
    "from dotenv import load_dotenv\n",
    "\n",
    "load_dotenv()\n",
    "\n",
    "api_key = os.environ[\"GOOGLE_API_KEY\"]\n",
    "\n",
    "lm = dspy.LM(model=\"gemini/gemini-2.0-flash\", api_key=api_key)\n",
    "dspy.configure(lm=lm)"
   ]
  },
  {
   "cell_type": "code",
   "execution_count": 2,
   "metadata": {},
   "outputs": [
    {
     "name": "stdout",
     "output_type": "stream",
     "text": [
      "Prediction(\n",
      "    intent='play',\n",
      "    confidence=0.95\n",
      ")\n",
      "Prediction(\n",
      "    intent='info',\n",
      "    confidence=0.95\n",
      ")\n",
      "Prediction(\n",
      "    intent='retrieve',\n",
      "    confidence=0.95\n",
      ")\n",
      "Prediction(\n",
      "    intent='retrieve',\n",
      "    confidence=0.95\n",
      ")\n",
      "Prediction(\n",
      "    intent='play',\n",
      "    confidence=0.95\n",
      ")\n"
     ]
    }
   ],
   "source": [
    "class Intent(dspy.Signature):\n",
    "    \"\"\"Classifies a sentence to a certain mode\"\"\"\n",
    "\n",
    "    sentence: str = dspy.InputField()\n",
    "    intent: Literal[\"info\", \"retrieve\", \"play\"] = dspy.OutputField()\n",
    "    confidence: float = dspy.OutputField()\n",
    "\n",
    "\n",
    "intent = dspy.Predict(Intent)\n",
    "print(intent(sentence=\"Play me this song\"))\n",
    "print(intent(sentence=\"Which song plays during this certain part of the game?\"))\n",
    "print(intent(sentence=\"Return the song that plays during this certain part.\"))\n",
    "print(\n",
    "    intent(sentence=\"Which song plays during this part? Return it and play it for me.\")\n",
    ")\n",
    "print(intent(sentence=\"Play me this song\"))"
   ]
  }
 ],
 "metadata": {
  "kernelspec": {
   "display_name": "mairio",
   "language": "python",
   "name": "python3"
  },
  "language_info": {
   "codemirror_mode": {
    "name": "ipython",
    "version": 3
   },
   "file_extension": ".py",
   "mimetype": "text/x-python",
   "name": "python",
   "nbconvert_exporter": "python",
   "pygments_lexer": "ipython3",
   "version": "3.12.9"
  }
 },
 "nbformat": 4,
 "nbformat_minor": 2
}
